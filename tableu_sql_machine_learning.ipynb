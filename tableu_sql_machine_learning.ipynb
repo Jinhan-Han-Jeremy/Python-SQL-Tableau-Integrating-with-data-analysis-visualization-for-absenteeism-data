{
 "cells": [
  {
   "cell_type": "markdown",
   "metadata": {},
   "source": [
    "Losgistic regression with sklearn"
   ]
  },
  {
   "cell_type": "code",
   "execution_count": 1,
   "metadata": {},
   "outputs": [],
   "source": [
    "import numpy as np\n",
    "import pandas as pd\n",
    "data_preprocessed = pd.read_csv('Absenteeism_preprocessed.csv')"
   ]
  },
  {
   "cell_type": "code",
   "execution_count": 2,
   "metadata": {},
   "outputs": [
    {
     "data": {
      "text/plain": [
       "3.0"
      ]
     },
     "execution_count": 2,
     "metadata": {},
     "output_type": "execute_result"
    }
   ],
   "source": [
    "data_preprocessed['Absenteeism Time in Hours'].median()"
   ]
  },
  {
   "cell_type": "code",
   "execution_count": 3,
   "metadata": {},
   "outputs": [],
   "source": [
    "#  > 3, 1, 0.  If mmedian is gretaer than 3, that is 1. if not, that is 0\n",
    "targets = np.where(data_preprocessed['Absenteeism Time in Hours'] > 3, 1, 0)"
   ]
  },
  {
   "cell_type": "code",
   "execution_count": 4,
   "metadata": {},
   "outputs": [],
   "source": [
    "#add new column '-targets- called Excessive Absenteeism' into data_preprocessed\n",
    "data_preprocessed['Excessive Absenteeism'] = targets"
   ]
  },
  {
   "cell_type": "code",
   "execution_count": 5,
   "metadata": {},
   "outputs": [],
   "source": [
    "\n",
    "#data_with_targets = data_preprocessed.drop(['Absenteeism Time in Hours'], axis =1)\n",
    "data_with_targets = data_preprocessed.drop(['Absenteeism Time in Hours', 'Day of the Week', \n",
    "                                            'Daily Work Load Average', 'Distance to Work'], axis =1)"
   ]
  },
  {
   "cell_type": "code",
   "execution_count": 6,
   "metadata": {},
   "outputs": [],
   "source": [
    "unscaled_inputs = data_with_targets.iloc[:,:-1]"
   ]
  },
  {
   "cell_type": "code",
   "execution_count": 7,
   "metadata": {},
   "outputs": [],
   "source": [
    "from sklearn.preprocessing import StandardScaler\n",
    "absenteeism_scaler = StandardScaler()\n",
    "#absenteeism_scaler.fit(unscaled_inputs)"
   ]
  },
  {
   "cell_type": "code",
   "execution_count": 8,
   "metadata": {},
   "outputs": [],
   "source": [
    "# import the libraries needed to create the Custom Scaler\n",
    "# note that all of them are a part of the sklearn package\n",
    "# moreover, one of them is actually the StandardScaler module, \n",
    "# so you can imagine that the Custom Scaler is build on it\n",
    "\n",
    "from sklearn.base import BaseEstimator, TransformerMixin\n",
    "from sklearn.preprocessing import StandardScaler\n",
    "\n",
    "# create the Custom Scaler class\n",
    "\n",
    "class CustomScaler(BaseEstimator,TransformerMixin): \n",
    "    \n",
    "    # init or what information we need to declare a CustomScaler object\n",
    "    # and what is calculated/declared as we do\n",
    "    \n",
    "    def __init__(self,columns,copy=True,with_mean=True,with_std=True):\n",
    "        \n",
    "        # scaler is nothing but a Standard Scaler object\n",
    "        self.scaler = StandardScaler(copy,with_mean,with_std)\n",
    "        # with some columns 'twist'\n",
    "        self.columns = columns\n",
    "        self.mean_ = None\n",
    "        self.var_ = None\n",
    "        \n",
    "    \n",
    "    # the fit method, which, again based on StandardScale\n",
    "    \n",
    "    def fit(self, X, y=None):\n",
    "        self.scaler.fit(X[self.columns], y)\n",
    "        self.mean_ = np.mean(X[self.columns])\n",
    "        self.var_ = np.var(X[self.columns])\n",
    "        return self\n",
    "    \n",
    "    # the transform method which does the actual scaling\n",
    "\n",
    "    def transform(self, X, y=None, copy=None):\n",
    "        \n",
    "        # record the initial order of the columns\n",
    "        init_col_order = X.columns\n",
    "        \n",
    "        # scale all features that you chose when creating the instance of the class\n",
    "        X_scaled = pd.DataFrame(self.scaler.transform(X[self.columns]), columns=self.columns)\n",
    "        \n",
    "        # declare a variable containing all information that was not scaled\n",
    "        X_not_scaled = X.loc[:,~X.columns.isin(self.columns)]\n",
    "        \n",
    "        # return a data frame which contains all scaled features and all 'not scaled' features\n",
    "        # use the original order (that you recorded in the beginning)\n",
    "        return pd.concat([X_not_scaled, X_scaled], axis=1)[init_col_order]"
   ]
  },
  {
   "cell_type": "code",
   "execution_count": 9,
   "metadata": {},
   "outputs": [
    {
     "data": {
      "text/plain": [
       "array(['Reason_1', 'Reason_2', 'Reason_3', 'Reason_4', 'Month Value',\n",
       "       'Transportation Expense', 'Age', 'Body Mass Index', 'Education',\n",
       "       'Children', 'Pet'], dtype=object)"
      ]
     },
     "execution_count": 9,
     "metadata": {},
     "output_type": "execute_result"
    }
   ],
   "source": [
    "unscaled_inputs.columns.values"
   ]
  },
  {
   "cell_type": "code",
   "execution_count": 10,
   "metadata": {},
   "outputs": [],
   "source": [
    "#columns_to_scale = ['Month Value', 'Day of the Week', 'Transportation Expense', 'Distance to Work',\n",
    "#'Age', 'Daily Work Load Average', 'Body Mass Index', 'Children', 'Pet']\n",
    "\n",
    "columns_to_omit = ['Reason_1', 'Reason_2', 'Reason_3', 'Reason_4', 'Education']"
   ]
  },
  {
   "cell_type": "code",
   "execution_count": 11,
   "metadata": {},
   "outputs": [],
   "source": [
    "columns_to_scale = [x for x in unscaled_inputs.columns.values if x not in columns_to_omit]"
   ]
  },
  {
   "cell_type": "code",
   "execution_count": null,
   "metadata": {},
   "outputs": [],
   "source": []
  },
  {
   "cell_type": "code",
   "execution_count": 12,
   "metadata": {},
   "outputs": [
    {
     "name": "stderr",
     "output_type": "stream",
     "text": [
      "/Users/jinhanhan/opt/anaconda3/lib/python3.8/site-packages/sklearn/utils/validation.py:68: FutureWarning: Pass copy=True, with_mean=True, with_std=True as keyword args. From version 0.25 passing these as positional arguments will result in an error\n",
      "  warnings.warn(\"Pass {} as keyword args. From version 0.25 \"\n"
     ]
    }
   ],
   "source": [
    "absenteeism_scaler = CustomScaler(columns_to_scale)\n",
    "#absenteeism_scaler = StandardScaler()"
   ]
  },
  {
   "cell_type": "code",
   "execution_count": 13,
   "metadata": {
    "scrolled": true
   },
   "outputs": [
    {
     "name": "stderr",
     "output_type": "stream",
     "text": [
      "/Users/jinhanhan/opt/anaconda3/lib/python3.8/site-packages/sklearn/base.py:209: FutureWarning: From version 0.24, get_params will raise an AttributeError if a parameter cannot be retrieved as an instance attribute. Previously it would return None.\n",
      "  warnings.warn('From version 0.24, get_params will raise an '\n"
     ]
    },
    {
     "data": {
      "text/plain": [
       "CustomScaler(columns=['Month Value', 'Transportation Expense', 'Age',\n",
       "                      'Body Mass Index', 'Children', 'Pet'],\n",
       "             copy=None, with_mean=None, with_std=None)"
      ]
     },
     "execution_count": 13,
     "metadata": {},
     "output_type": "execute_result"
    }
   ],
   "source": [
    "absenteeism_scaler.fit(unscaled_inputs)"
   ]
  },
  {
   "cell_type": "code",
   "execution_count": 14,
   "metadata": {},
   "outputs": [],
   "source": [
    "scaled_inputs = absenteeism_scaler.transform(unscaled_inputs)"
   ]
  },
  {
   "cell_type": "code",
   "execution_count": null,
   "metadata": {},
   "outputs": [],
   "source": []
  },
  {
   "cell_type": "code",
   "execution_count": 15,
   "metadata": {},
   "outputs": [],
   "source": [
    "from sklearn import preprocessing\n",
    "import numpy as np\n",
    "X_train = np.array([[ 1., -1.,  2.],\n",
    "                    [ 2.,  0.,  0.],\n",
    "                    [ 0.,  1., -1.]])\n",
    "scaler = preprocessing.StandardScaler().fit(X_train)\n"
   ]
  },
  {
   "cell_type": "code",
   "execution_count": 16,
   "metadata": {},
   "outputs": [
    {
     "data": {
      "text/plain": [
       "[     Reason_1  Reason_2  Reason_3  Reason_4  Month Value  \\\n",
       " 632         0         0         0         1    -1.166834   \n",
       " 167         1         0         0         0    -1.166834   \n",
       " 243         1         0         0         0     0.030796   \n",
       " 337         0         0         0         0     1.228426   \n",
       " 299         1         0         0         0     0.929019   \n",
       " ..        ...       ...       ...       ...          ...   \n",
       " 207         0         0         1         0    -1.166834   \n",
       " 72          0         0         0         1     0.929019   \n",
       " 196         0         0         0         1    -0.867426   \n",
       " 684         0         0         0         1     1.228426   \n",
       " 183         0         0         0         1    -1.166834   \n",
       " \n",
       "      Transportation Expense       Age  Body Mass Index  Education  Children  \\\n",
       " 632               -0.654143  0.248310         1.002633          0 -0.919030   \n",
       " 167               -1.016322 -0.379188        -0.408580          0  0.880469   \n",
       " 243                1.624567 -1.320435        -0.408580          1 -0.919030   \n",
       " 337                0.854936  0.405184        -0.643782          0  0.880469   \n",
       " 299               -0.654143 -1.006686        -1.819793          1 -0.919030   \n",
       " ..                      ...       ...              ...        ...       ...   \n",
       " 207               -0.654143  0.248310         1.002633          0 -0.919030   \n",
       " 72                -0.654143  0.248310         1.002633          0 -0.919030   \n",
       " 196                0.387122  1.660180         1.237836          0  0.880469   \n",
       " 684               -0.654143 -1.006686        -1.819793          1 -0.919030   \n",
       " 183                0.040034 -1.320435        -0.643782          0 -0.019280   \n",
       " \n",
       "           Pet  \n",
       " 632 -0.589690  \n",
       " 167 -0.589690  \n",
       " 243 -0.589690  \n",
       " 337 -0.589690  \n",
       " 299 -0.589690  \n",
       " ..        ...  \n",
       " 207 -0.589690  \n",
       " 72  -0.589690  \n",
       " 196  0.268487  \n",
       " 684 -0.589690  \n",
       " 183  1.126663  \n",
       " \n",
       " [525 rows x 11 columns],\n",
       "      Reason_1  Reason_2  Reason_3  Reason_4  Month Value  \\\n",
       " 339         1         0         0         0    -0.568019   \n",
       " 426         0         0         0         1    -1.166834   \n",
       " 456         0         0         1         0    -0.268611   \n",
       " 161         1         0         0         0    -1.166834   \n",
       " 586         0         0         0         1    -0.268611   \n",
       " ..        ...       ...       ...       ...          ...   \n",
       " 355         0         0         0         1     1.527833   \n",
       " 605         0         0         0         1    -1.466241   \n",
       " 581         0         0         0         1    -1.765648   \n",
       " 69          0         0         0         1     0.929019   \n",
       " 531         1         0         0         0     0.929019   \n",
       " \n",
       "      Transportation Expense       Age  Body Mass Index  Education  Children  \\\n",
       " 339                0.040034 -1.320435        -0.643782          0 -0.019280   \n",
       " 426                0.387122  1.660180         1.237836          0  0.880469   \n",
       " 456               -0.654143 -1.006686        -1.819793          1 -0.919030   \n",
       " 161               -0.654143 -1.006686        -1.819793          1 -0.919030   \n",
       " 586                0.040034 -1.320435        -0.643782          0 -0.019280   \n",
       " ..                      ...       ...              ...        ...       ...   \n",
       " 355               -0.986140 -1.163560        -1.114186          0 -0.919030   \n",
       " 605               -0.654143  0.248310         1.002633          0 -0.919030   \n",
       " 581               -0.654143  0.248310         1.002633          0 -0.919030   \n",
       " 69                 0.040034 -1.320435        -0.643782          0 -0.019280   \n",
       " 531                0.040034 -1.320435        -0.643782          0 -0.019280   \n",
       " \n",
       "           Pet  \n",
       " 339  1.126663  \n",
       " 426  0.268487  \n",
       " 456 -0.589690  \n",
       " 161 -0.589690  \n",
       " 586  1.126663  \n",
       " ..        ...  \n",
       " 355 -0.589690  \n",
       " 605 -0.589690  \n",
       " 581 -0.589690  \n",
       " 69   1.126663  \n",
       " 531  1.126663  \n",
       " \n",
       " [175 rows x 11 columns],\n",
       " array([0, 1, 1, 0, 1, 0, 1, 1, 0, 0, 0, 0, 0, 0, 0, 0, 0, 1, 1, 1, 1, 0,\n",
       "        0, 1, 0, 0, 0, 0, 1, 1, 1, 1, 0, 0, 1, 0, 1, 0, 1, 0, 0, 0, 0, 1,\n",
       "        1, 1, 0, 0, 0, 0, 0, 0, 0, 0, 1, 0, 0, 0, 1, 0, 1, 1, 1, 1, 0, 1,\n",
       "        0, 0, 1, 0, 1, 1, 0, 0, 0, 1, 0, 1, 0, 1, 1, 0, 0, 0, 0, 1, 0, 0,\n",
       "        1, 1, 0, 1, 0, 1, 1, 0, 0, 0, 1, 1, 1, 0, 0, 0, 0, 1, 0, 1, 0, 0,\n",
       "        0, 0, 0, 1, 0, 1, 1, 0, 0, 1, 1, 1, 1, 1, 0, 0, 1, 0, 0, 0, 0, 1,\n",
       "        1, 1, 0, 0, 1, 0, 0, 1, 1, 0, 0, 0, 0, 0, 0, 0, 1, 1, 1, 0, 1, 0,\n",
       "        1, 0, 0, 1, 1, 0, 0, 1, 0, 1, 1, 0, 0, 1, 0, 0, 0, 1, 1, 0, 1, 0,\n",
       "        0, 1, 1, 1, 0, 0, 0, 0, 1, 0, 1, 0, 1, 1, 1, 0, 1, 0, 0, 1, 0, 0,\n",
       "        0, 0, 0, 1, 0, 1, 1, 0, 0, 0, 1, 0, 1, 1, 0, 0, 0, 0, 1, 1, 0, 1,\n",
       "        1, 0, 0, 0, 0, 0, 1, 1, 1, 1, 0, 1, 1, 0, 0, 1, 1, 0, 0, 0, 0, 0,\n",
       "        1, 0, 1, 1, 1, 1, 0, 0, 0, 0, 0, 1, 0, 0, 1, 1, 1, 0, 1, 0, 1, 0,\n",
       "        0, 0, 1, 0, 0, 1, 1, 0, 1, 1, 1, 1, 1, 0, 1, 0, 0, 1, 1, 1, 0, 0,\n",
       "        0, 0, 1, 0, 0, 0, 1, 0, 0, 0, 0, 1, 1, 1, 0, 1, 0, 0, 1, 1, 1, 1,\n",
       "        1, 1, 0, 0, 0, 0, 0, 1, 1, 0, 0, 0, 0, 0, 1, 0, 0, 0, 0, 1, 1, 0,\n",
       "        0, 0, 1, 0, 0, 0, 0, 1, 1, 1, 0, 1, 0, 1, 1, 1, 0, 1, 0, 1, 0, 1,\n",
       "        1, 0, 0, 0, 0, 0, 1, 1, 1, 0, 0, 0, 1, 0, 0, 1, 1, 0, 1, 1, 0, 0,\n",
       "        1, 0, 0, 0, 1, 0, 1, 1, 1, 1, 0, 0, 0, 1, 1, 1, 1, 0, 1, 0, 1, 1,\n",
       "        0, 1, 1, 0, 0, 0, 1, 1, 0, 1, 1, 1, 1, 1, 0, 0, 0, 1, 1, 0, 1, 0,\n",
       "        0, 0, 1, 1, 1, 1, 1, 0, 0, 0, 1, 0, 1, 1, 1, 0, 0, 1, 1, 0, 1, 1,\n",
       "        1, 1, 0, 1, 0, 0, 1, 0, 0, 1, 1, 1, 1, 0, 0, 1, 0, 1, 0, 1, 1, 1,\n",
       "        1, 1, 0, 0, 0, 0, 0, 1, 1, 0, 0, 0, 0, 0, 1, 1, 1, 0, 1, 1, 0, 1,\n",
       "        1, 1, 0, 1, 1, 1, 0, 1, 0, 1, 0, 1, 0, 1, 1, 0, 1, 0, 0, 1, 0, 0,\n",
       "        1, 0, 0, 1, 1, 0, 1, 0, 1, 0, 0, 0, 0, 0, 1, 1, 1, 0, 0]),\n",
       " array([0, 0, 0, 1, 0, 1, 0, 1, 0, 1, 1, 1, 1, 0, 1, 1, 0, 0, 0, 0, 0, 1,\n",
       "        0, 0, 1, 0, 1, 1, 1, 1, 1, 1, 0, 1, 1, 1, 0, 0, 1, 1, 0, 1, 0, 0,\n",
       "        0, 0, 0, 1, 0, 1, 1, 0, 0, 0, 1, 1, 0, 0, 1, 0, 0, 0, 1, 1, 0, 0,\n",
       "        0, 0, 0, 1, 0, 0, 0, 0, 0, 0, 1, 0, 0, 1, 0, 0, 1, 0, 0, 1, 0, 1,\n",
       "        0, 1, 0, 0, 0, 0, 0, 0, 0, 0, 0, 1, 0, 1, 1, 1, 1, 1, 1, 0, 0, 1,\n",
       "        0, 0, 0, 0, 0, 1, 1, 1, 0, 1, 0, 0, 1, 1, 1, 1, 1, 0, 0, 1, 0, 0,\n",
       "        1, 0, 0, 0, 1, 1, 0, 1, 0, 1, 0, 1, 1, 1, 0, 0, 1, 1, 1, 1, 1, 0,\n",
       "        1, 0, 0, 0, 1, 0, 1, 0, 0, 0, 1, 1, 0, 0, 1, 1, 0, 0, 0, 0, 0])]"
      ]
     },
     "execution_count": 16,
     "metadata": {},
     "output_type": "execute_result"
    }
   ],
   "source": [
    "from sklearn.model_selection import train_test_split\n",
    "train_test_split(scaled_inputs, targets)"
   ]
  },
  {
   "cell_type": "code",
   "execution_count": 17,
   "metadata": {},
   "outputs": [],
   "source": [
    "x_train, x_test, y_train, y_test = train_test_split(scaled_inputs,targets, train_size = 0.8, random_state = 20)\n",
    "#train_size = 80%, random_state = SPLITS DATA INTO RANDOM TRAIN AND TEST SUBSETS\n",
    "#random_state  20 array or subsets"
   ]
  },
  {
   "cell_type": "code",
   "execution_count": 18,
   "metadata": {},
   "outputs": [
    {
     "name": "stdout",
     "output_type": "stream",
     "text": [
      "(560, 11) (560,)\n"
     ]
    }
   ],
   "source": [
    "print(x_train.shape, y_train.shape)"
   ]
  },
  {
   "cell_type": "code",
   "execution_count": null,
   "metadata": {},
   "outputs": [],
   "source": []
  },
  {
   "cell_type": "code",
   "execution_count": 19,
   "metadata": {},
   "outputs": [],
   "source": [
    "from sklearn.linear_model import LogisticRegression\n",
    "from sklearn import metrics"
   ]
  },
  {
   "cell_type": "markdown",
   "metadata": {},
   "source": [
    "Trainning the model"
   ]
  },
  {
   "cell_type": "code",
   "execution_count": 20,
   "metadata": {},
   "outputs": [],
   "source": [
    "reg = LogisticRegression()"
   ]
  },
  {
   "cell_type": "code",
   "execution_count": 21,
   "metadata": {},
   "outputs": [
    {
     "data": {
      "text/plain": [
       "LogisticRegression()"
      ]
     },
     "execution_count": 21,
     "metadata": {},
     "output_type": "execute_result"
    }
   ],
   "source": [
    "#LogisticRegression().fit\n",
    "reg.fit(x_train, y_train)"
   ]
  },
  {
   "cell_type": "code",
   "execution_count": 22,
   "metadata": {},
   "outputs": [
    {
     "data": {
      "text/plain": [
       "0.7767857142857143"
      ]
     },
     "execution_count": 22,
     "metadata": {},
     "output_type": "execute_result"
    }
   ],
   "source": [
    "#mean accuracy\n",
    "reg.score(x_train, y_train)"
   ]
  },
  {
   "cell_type": "markdown",
   "metadata": {},
   "source": [
    "Manually check the accuracy"
   ]
  },
  {
   "cell_type": "code",
   "execution_count": 23,
   "metadata": {},
   "outputs": [
    {
     "data": {
      "text/plain": [
       "array([0, 1, 1, 1, 1, 0, 0, 1, 0, 1, 1, 1, 0, 1, 0, 0, 0, 0, 0, 1, 1, 0,\n",
       "       0, 0, 0, 0, 0, 1, 1, 0, 0, 1, 0, 1, 0, 0, 1, 0, 0, 0, 1, 0, 1, 1,\n",
       "       0, 0, 0, 0, 1, 1, 0, 1, 0, 0, 0, 1, 1, 0, 0, 0, 0, 0, 1, 0, 0, 0,\n",
       "       0, 0, 0, 0, 0, 1, 1, 0, 0, 0, 1, 0, 0, 1, 1, 1, 0, 0, 0, 1, 1, 0,\n",
       "       0, 1, 0, 0, 1, 0, 0, 0, 0, 1, 0, 1, 1, 1, 1, 0, 1, 1, 0, 0, 1, 0,\n",
       "       0, 1, 0, 1, 1, 0, 0, 0, 1, 1, 1, 1, 1, 0, 0, 1, 0, 1, 0, 0, 1, 0,\n",
       "       0, 0, 0, 0, 1, 0, 0, 0, 0, 0, 1, 1, 1, 0, 0, 1, 0, 1, 0, 0, 1, 0,\n",
       "       1, 1, 0, 1, 0, 1, 1, 0, 1, 0, 0, 1, 1, 0, 1, 1, 0, 0, 0, 0, 1, 0,\n",
       "       0, 0, 0, 0, 1, 0, 0, 1, 1, 0, 0, 1, 0, 0, 1, 1, 1, 0, 0, 0, 0, 1,\n",
       "       1, 0, 0, 1, 1, 1, 1, 0, 1, 0, 0, 0, 1, 1, 1, 0, 0, 0, 0, 0, 0, 1,\n",
       "       1, 0, 0, 0, 1, 0, 0, 1, 1, 0, 0, 1, 1, 0, 0, 1, 1, 0, 0, 0, 0, 1,\n",
       "       0, 0, 1, 0, 1, 1, 1, 0, 1, 0, 1, 0, 1, 0, 1, 1, 0, 1, 1, 1, 1, 1,\n",
       "       0, 0, 0, 0, 0, 0, 1, 1, 0, 0, 1, 0, 1, 1, 0, 1, 0, 0, 1, 0, 1, 0,\n",
       "       0, 0, 0, 0, 0, 0, 0, 1, 1, 1, 1, 1, 1, 1, 0, 0, 0, 0, 0, 1, 0, 0,\n",
       "       0, 0, 0, 0, 1, 0, 1, 0, 1, 1, 0, 0, 0, 0, 1, 1, 1, 1, 0, 0, 1, 1,\n",
       "       1, 0, 1, 0, 0, 1, 0, 0, 0, 0, 0, 0, 0, 0, 0, 1, 1, 1, 0, 0, 0, 1,\n",
       "       0, 0, 1, 0, 1, 1, 0, 0, 1, 0, 1, 1, 1, 0, 0, 0, 0, 1, 1, 1, 0, 0,\n",
       "       1, 1, 1, 1, 0, 0, 1, 1, 0, 1, 0, 1, 1, 1, 0, 1, 0, 1, 1, 0, 0, 0,\n",
       "       0, 0, 0, 0, 0, 1, 1, 0, 1, 1, 0, 1, 0, 0, 0, 1, 1, 0, 0, 1, 1, 0,\n",
       "       0, 0, 0, 1, 1, 0, 1, 0, 0, 1, 0, 0, 1, 0, 1, 1, 1, 0, 0, 1, 1, 0,\n",
       "       0, 0, 0, 0, 0, 0, 0, 0, 1, 1, 1, 1, 1, 0, 1, 1, 0, 0, 0, 0, 0, 0,\n",
       "       1, 1, 0, 0, 0, 0, 1, 0, 0, 0, 1, 0, 1, 1, 0, 0, 1, 0, 0, 1, 0, 0,\n",
       "       0, 0, 0, 0, 0, 1, 0, 0, 1, 0, 0, 0, 0, 1, 0, 0, 1, 0, 1, 0, 0, 0,\n",
       "       0, 1, 1, 0, 1, 0, 0, 0, 1, 1, 1, 1, 0, 0, 1, 1, 0, 0, 1, 0, 1, 1,\n",
       "       0, 1, 1, 0, 1, 1, 1, 0, 0, 0, 1, 1, 1, 0, 1, 1, 0, 1, 1, 0, 0, 0,\n",
       "       0, 1, 0, 1, 1, 1, 0, 0, 0, 0])"
      ]
     },
     "execution_count": 23,
     "metadata": {},
     "output_type": "execute_result"
    }
   ],
   "source": [
    "model_outputs = reg.predict(x_train)\n",
    "model_outputs"
   ]
  },
  {
   "cell_type": "code",
   "execution_count": 24,
   "metadata": {},
   "outputs": [
    {
     "data": {
      "text/plain": [
       "array([ True,  True,  True,  True,  True,  True,  True,  True,  True,\n",
       "        True, False,  True, False, False,  True,  True,  True,  True,\n",
       "       False,  True, False,  True, False, False,  True,  True,  True,\n",
       "       False,  True,  True,  True,  True,  True,  True,  True,  True,\n",
       "       False, False, False, False,  True,  True,  True,  True, False,\n",
       "        True,  True,  True,  True,  True, False,  True,  True,  True,\n",
       "        True,  True,  True,  True,  True, False,  True,  True,  True,\n",
       "        True,  True,  True,  True,  True,  True, False,  True,  True,\n",
       "        True,  True,  True, False,  True,  True,  True,  True,  True,\n",
       "       False,  True, False,  True,  True, False, False, False,  True,\n",
       "        True,  True,  True,  True,  True,  True,  True, False,  True,\n",
       "        True,  True,  True,  True,  True,  True,  True,  True,  True,\n",
       "        True,  True,  True,  True, False,  True,  True,  True,  True,\n",
       "       False,  True,  True,  True,  True, False,  True,  True,  True,\n",
       "        True,  True,  True,  True,  True, False,  True,  True,  True,\n",
       "        True, False,  True,  True,  True,  True,  True,  True, False,\n",
       "        True, False,  True, False,  True,  True,  True,  True, False,\n",
       "       False, False,  True,  True, False,  True,  True,  True,  True,\n",
       "        True, False,  True, False,  True, False,  True, False,  True,\n",
       "        True,  True,  True,  True,  True,  True,  True,  True,  True,\n",
       "        True,  True,  True,  True,  True, False,  True,  True,  True,\n",
       "        True, False,  True,  True,  True,  True,  True,  True,  True,\n",
       "        True,  True,  True,  True,  True,  True, False,  True, False,\n",
       "       False,  True,  True,  True,  True,  True,  True,  True, False,\n",
       "        True, False,  True, False,  True,  True,  True,  True, False,\n",
       "        True, False, False,  True,  True,  True,  True,  True, False,\n",
       "       False, False,  True, False,  True,  True,  True, False,  True,\n",
       "        True,  True,  True,  True,  True,  True, False,  True,  True,\n",
       "        True,  True,  True,  True,  True,  True, False,  True,  True,\n",
       "        True, False, False,  True,  True,  True,  True,  True,  True,\n",
       "       False,  True,  True,  True,  True,  True,  True, False, False,\n",
       "       False,  True,  True,  True,  True, False,  True, False,  True,\n",
       "       False,  True,  True,  True,  True,  True, False,  True, False,\n",
       "       False,  True,  True,  True,  True,  True, False,  True,  True,\n",
       "        True,  True,  True, False,  True, False,  True,  True,  True,\n",
       "        True,  True,  True,  True,  True, False,  True,  True, False,\n",
       "       False,  True,  True,  True,  True,  True,  True,  True, False,\n",
       "        True,  True,  True, False, False,  True,  True,  True, False,\n",
       "        True, False,  True,  True,  True,  True,  True,  True,  True,\n",
       "        True,  True,  True,  True,  True,  True,  True,  True,  True,\n",
       "       False,  True,  True, False,  True, False,  True,  True,  True,\n",
       "        True,  True,  True,  True,  True,  True,  True,  True,  True,\n",
       "        True,  True,  True, False,  True,  True,  True, False,  True,\n",
       "        True, False,  True, False,  True,  True,  True, False,  True,\n",
       "        True,  True,  True,  True,  True, False,  True,  True,  True,\n",
       "        True,  True,  True,  True,  True,  True,  True,  True,  True,\n",
       "        True,  True,  True, False,  True, False,  True,  True, False,\n",
       "        True,  True,  True, False,  True,  True, False,  True, False,\n",
       "        True,  True,  True,  True,  True, False, False,  True,  True,\n",
       "        True,  True, False,  True,  True,  True,  True, False,  True,\n",
       "       False,  True,  True,  True, False, False,  True,  True,  True,\n",
       "        True, False,  True,  True,  True,  True,  True,  True,  True,\n",
       "        True,  True, False,  True,  True, False, False,  True,  True,\n",
       "       False,  True,  True,  True,  True,  True,  True, False, False,\n",
       "        True,  True, False,  True,  True,  True,  True, False,  True,\n",
       "        True,  True,  True,  True, False,  True,  True,  True,  True,\n",
       "        True, False,  True,  True, False,  True,  True,  True,  True,\n",
       "       False,  True,  True,  True,  True,  True, False,  True,  True,\n",
       "       False, False, False,  True,  True, False,  True,  True,  True,\n",
       "       False,  True,  True,  True,  True,  True,  True,  True,  True,\n",
       "        True, False,  True,  True,  True,  True,  True,  True,  True,\n",
       "        True,  True, False,  True,  True,  True,  True, False,  True,\n",
       "       False,  True])"
      ]
     },
     "execution_count": 24,
     "metadata": {},
     "output_type": "execute_result"
    }
   ],
   "source": [
    "model_outputs == y_train"
   ]
  },
  {
   "cell_type": "code",
   "execution_count": 25,
   "metadata": {},
   "outputs": [
    {
     "data": {
      "text/plain": [
       "435"
      ]
     },
     "execution_count": 25,
     "metadata": {},
     "output_type": "execute_result"
    }
   ],
   "source": [
    "np.sum(model_outputs==y_train)\n",
    "#total number of correct predictions"
   ]
  },
  {
   "cell_type": "code",
   "execution_count": 26,
   "metadata": {},
   "outputs": [
    {
     "data": {
      "text/plain": [
       "560"
      ]
     },
     "execution_count": 26,
     "metadata": {},
     "output_type": "execute_result"
    }
   ],
   "source": [
    "model_outputs.shape[0]"
   ]
  },
  {
   "cell_type": "code",
   "execution_count": 27,
   "metadata": {},
   "outputs": [
    {
     "data": {
      "text/plain": [
       "0.7767857142857144"
      ]
     },
     "execution_count": 27,
     "metadata": {},
     "output_type": "execute_result"
    }
   ],
   "source": [
    "##Accuracy = correct predictions/ # observations\n",
    "np.sum((model_outputs==y_train)/model_outputs.shape[0])"
   ]
  },
  {
   "cell_type": "markdown",
   "metadata": {},
   "source": [
    "Finding the intercept and coefficients"
   ]
  },
  {
   "cell_type": "code",
   "execution_count": 28,
   "metadata": {},
   "outputs": [
    {
     "data": {
      "text/plain": [
       "array([-1.60957471])"
      ]
     },
     "execution_count": 28,
     "metadata": {},
     "output_type": "execute_result"
    }
   ],
   "source": [
    "reg.intercept_"
   ]
  },
  {
   "cell_type": "code",
   "execution_count": 29,
   "metadata": {},
   "outputs": [
    {
     "data": {
      "text/plain": [
       "array([[ 2.77151176,  0.93168817,  3.09210221,  0.8090592 ,  0.00781237,\n",
       "         0.62505482, -0.17390339,  0.28829409, -0.24081615,  0.35753531,\n",
       "        -0.27337422]])"
      ]
     },
     "execution_count": 29,
     "metadata": {},
     "output_type": "execute_result"
    }
   ],
   "source": [
    "reg.coef_"
   ]
  },
  {
   "cell_type": "code",
   "execution_count": 30,
   "metadata": {},
   "outputs": [
    {
     "data": {
      "text/plain": [
       "array(['Reason_1', 'Reason_2', 'Reason_3', 'Reason_4', 'Month Value',\n",
       "       'Transportation Expense', 'Age', 'Body Mass Index', 'Education',\n",
       "       'Children', 'Pet'], dtype=object)"
      ]
     },
     "execution_count": 30,
     "metadata": {},
     "output_type": "execute_result"
    }
   ],
   "source": [
    "## scaled_inputs.columns.values  'numpy.ndarray' object has no attribute 'columns'\n",
    "unscaled_inputs.columns.values"
   ]
  },
  {
   "cell_type": "code",
   "execution_count": 31,
   "metadata": {},
   "outputs": [],
   "source": [
    "feature_name = unscaled_inputs.columns.values"
   ]
  },
  {
   "cell_type": "code",
   "execution_count": 32,
   "metadata": {},
   "outputs": [
    {
     "data": {
      "text/html": [
       "<div>\n",
       "<style scoped>\n",
       "    .dataframe tbody tr th:only-of-type {\n",
       "        vertical-align: middle;\n",
       "    }\n",
       "\n",
       "    .dataframe tbody tr th {\n",
       "        vertical-align: top;\n",
       "    }\n",
       "\n",
       "    .dataframe thead th {\n",
       "        text-align: right;\n",
       "    }\n",
       "</style>\n",
       "<table border=\"1\" class=\"dataframe\">\n",
       "  <thead>\n",
       "    <tr style=\"text-align: right;\">\n",
       "      <th></th>\n",
       "      <th>Feature name</th>\n",
       "      <th>coefficient</th>\n",
       "    </tr>\n",
       "  </thead>\n",
       "  <tbody>\n",
       "    <tr>\n",
       "      <th>0</th>\n",
       "      <td>Reason_1</td>\n",
       "      <td>2.771512</td>\n",
       "    </tr>\n",
       "    <tr>\n",
       "      <th>1</th>\n",
       "      <td>Reason_2</td>\n",
       "      <td>0.931688</td>\n",
       "    </tr>\n",
       "    <tr>\n",
       "      <th>2</th>\n",
       "      <td>Reason_3</td>\n",
       "      <td>3.092102</td>\n",
       "    </tr>\n",
       "    <tr>\n",
       "      <th>3</th>\n",
       "      <td>Reason_4</td>\n",
       "      <td>0.809059</td>\n",
       "    </tr>\n",
       "    <tr>\n",
       "      <th>4</th>\n",
       "      <td>Month Value</td>\n",
       "      <td>0.007812</td>\n",
       "    </tr>\n",
       "    <tr>\n",
       "      <th>5</th>\n",
       "      <td>Transportation Expense</td>\n",
       "      <td>0.625055</td>\n",
       "    </tr>\n",
       "    <tr>\n",
       "      <th>6</th>\n",
       "      <td>Age</td>\n",
       "      <td>-0.173903</td>\n",
       "    </tr>\n",
       "    <tr>\n",
       "      <th>7</th>\n",
       "      <td>Body Mass Index</td>\n",
       "      <td>0.288294</td>\n",
       "    </tr>\n",
       "    <tr>\n",
       "      <th>8</th>\n",
       "      <td>Education</td>\n",
       "      <td>-0.240816</td>\n",
       "    </tr>\n",
       "    <tr>\n",
       "      <th>9</th>\n",
       "      <td>Children</td>\n",
       "      <td>0.357535</td>\n",
       "    </tr>\n",
       "    <tr>\n",
       "      <th>10</th>\n",
       "      <td>Pet</td>\n",
       "      <td>-0.273374</td>\n",
       "    </tr>\n",
       "  </tbody>\n",
       "</table>\n",
       "</div>"
      ],
      "text/plain": [
       "              Feature name  coefficient\n",
       "0                 Reason_1     2.771512\n",
       "1                 Reason_2     0.931688\n",
       "2                 Reason_3     3.092102\n",
       "3                 Reason_4     0.809059\n",
       "4              Month Value     0.007812\n",
       "5   Transportation Expense     0.625055\n",
       "6                      Age    -0.173903\n",
       "7          Body Mass Index     0.288294\n",
       "8                Education    -0.240816\n",
       "9                 Children     0.357535\n",
       "10                     Pet    -0.273374"
      ]
     },
     "execution_count": 32,
     "metadata": {},
     "output_type": "execute_result"
    }
   ],
   "source": [
    "summary_table = pd.DataFrame(columns=[\"Feature name\"], data = feature_name)\n",
    "summary_table[\"coefficient\"] = np.transpose(reg.coef_)\n",
    "summary_table"
   ]
  },
  {
   "cell_type": "code",
   "execution_count": 33,
   "metadata": {},
   "outputs": [
    {
     "data": {
      "text/html": [
       "<div>\n",
       "<style scoped>\n",
       "    .dataframe tbody tr th:only-of-type {\n",
       "        vertical-align: middle;\n",
       "    }\n",
       "\n",
       "    .dataframe tbody tr th {\n",
       "        vertical-align: top;\n",
       "    }\n",
       "\n",
       "    .dataframe thead th {\n",
       "        text-align: right;\n",
       "    }\n",
       "</style>\n",
       "<table border=\"1\" class=\"dataframe\">\n",
       "  <thead>\n",
       "    <tr style=\"text-align: right;\">\n",
       "      <th></th>\n",
       "      <th>Feature name</th>\n",
       "      <th>coefficient</th>\n",
       "    </tr>\n",
       "  </thead>\n",
       "  <tbody>\n",
       "    <tr>\n",
       "      <th>0</th>\n",
       "      <td>Intercept</td>\n",
       "      <td>-1.609575</td>\n",
       "    </tr>\n",
       "    <tr>\n",
       "      <th>1</th>\n",
       "      <td>Reason_1</td>\n",
       "      <td>2.771512</td>\n",
       "    </tr>\n",
       "    <tr>\n",
       "      <th>2</th>\n",
       "      <td>Reason_2</td>\n",
       "      <td>0.931688</td>\n",
       "    </tr>\n",
       "    <tr>\n",
       "      <th>3</th>\n",
       "      <td>Reason_3</td>\n",
       "      <td>3.092102</td>\n",
       "    </tr>\n",
       "    <tr>\n",
       "      <th>4</th>\n",
       "      <td>Reason_4</td>\n",
       "      <td>0.809059</td>\n",
       "    </tr>\n",
       "    <tr>\n",
       "      <th>5</th>\n",
       "      <td>Month Value</td>\n",
       "      <td>0.007812</td>\n",
       "    </tr>\n",
       "    <tr>\n",
       "      <th>6</th>\n",
       "      <td>Transportation Expense</td>\n",
       "      <td>0.625055</td>\n",
       "    </tr>\n",
       "    <tr>\n",
       "      <th>7</th>\n",
       "      <td>Age</td>\n",
       "      <td>-0.173903</td>\n",
       "    </tr>\n",
       "    <tr>\n",
       "      <th>8</th>\n",
       "      <td>Body Mass Index</td>\n",
       "      <td>0.288294</td>\n",
       "    </tr>\n",
       "    <tr>\n",
       "      <th>9</th>\n",
       "      <td>Education</td>\n",
       "      <td>-0.240816</td>\n",
       "    </tr>\n",
       "    <tr>\n",
       "      <th>10</th>\n",
       "      <td>Children</td>\n",
       "      <td>0.357535</td>\n",
       "    </tr>\n",
       "    <tr>\n",
       "      <th>11</th>\n",
       "      <td>Pet</td>\n",
       "      <td>-0.273374</td>\n",
       "    </tr>\n",
       "  </tbody>\n",
       "</table>\n",
       "</div>"
      ],
      "text/plain": [
       "              Feature name  coefficient\n",
       "0                Intercept    -1.609575\n",
       "1                 Reason_1     2.771512\n",
       "2                 Reason_2     0.931688\n",
       "3                 Reason_3     3.092102\n",
       "4                 Reason_4     0.809059\n",
       "5              Month Value     0.007812\n",
       "6   Transportation Expense     0.625055\n",
       "7                      Age    -0.173903\n",
       "8          Body Mass Index     0.288294\n",
       "9                Education    -0.240816\n",
       "10                Children     0.357535\n",
       "11                     Pet    -0.273374"
      ]
     },
     "execution_count": 33,
     "metadata": {},
     "output_type": "execute_result"
    }
   ],
   "source": [
    "summary_table.index = summary_table.index + 1\n",
    "summary_table.loc[0] = [\"Intercept\", reg.intercept_[0]]\n",
    "summary_table = summary_table.sort_index()\n",
    "summary_table"
   ]
  },
  {
   "cell_type": "code",
   "execution_count": 34,
   "metadata": {},
   "outputs": [],
   "source": [
    "#log(odds) = b0 +b1x1+ b2x2+ b3x3+ .."
   ]
  },
  {
   "cell_type": "code",
   "execution_count": 35,
   "metadata": {},
   "outputs": [],
   "source": [
    "summary_table[\"odds_ratio\"] = np.exp(summary_table.coefficient)"
   ]
  },
  {
   "cell_type": "code",
   "execution_count": null,
   "metadata": {},
   "outputs": [],
   "source": []
  },
  {
   "cell_type": "code",
   "execution_count": 36,
   "metadata": {},
   "outputs": [
    {
     "data": {
      "text/html": [
       "<div>\n",
       "<style scoped>\n",
       "    .dataframe tbody tr th:only-of-type {\n",
       "        vertical-align: middle;\n",
       "    }\n",
       "\n",
       "    .dataframe tbody tr th {\n",
       "        vertical-align: top;\n",
       "    }\n",
       "\n",
       "    .dataframe thead th {\n",
       "        text-align: right;\n",
       "    }\n",
       "</style>\n",
       "<table border=\"1\" class=\"dataframe\">\n",
       "  <thead>\n",
       "    <tr style=\"text-align: right;\">\n",
       "      <th></th>\n",
       "      <th>Feature name</th>\n",
       "      <th>coefficient</th>\n",
       "      <th>odds_ratio</th>\n",
       "    </tr>\n",
       "  </thead>\n",
       "  <tbody>\n",
       "    <tr>\n",
       "      <th>0</th>\n",
       "      <td>Intercept</td>\n",
       "      <td>-1.609575</td>\n",
       "      <td>0.199973</td>\n",
       "    </tr>\n",
       "    <tr>\n",
       "      <th>1</th>\n",
       "      <td>Reason_1</td>\n",
       "      <td>2.771512</td>\n",
       "      <td>15.982778</td>\n",
       "    </tr>\n",
       "    <tr>\n",
       "      <th>2</th>\n",
       "      <td>Reason_2</td>\n",
       "      <td>0.931688</td>\n",
       "      <td>2.538791</td>\n",
       "    </tr>\n",
       "    <tr>\n",
       "      <th>3</th>\n",
       "      <td>Reason_3</td>\n",
       "      <td>3.092102</td>\n",
       "      <td>22.023327</td>\n",
       "    </tr>\n",
       "    <tr>\n",
       "      <th>4</th>\n",
       "      <td>Reason_4</td>\n",
       "      <td>0.809059</td>\n",
       "      <td>2.245794</td>\n",
       "    </tr>\n",
       "    <tr>\n",
       "      <th>5</th>\n",
       "      <td>Month Value</td>\n",
       "      <td>0.007812</td>\n",
       "      <td>1.007843</td>\n",
       "    </tr>\n",
       "    <tr>\n",
       "      <th>6</th>\n",
       "      <td>Transportation Expense</td>\n",
       "      <td>0.625055</td>\n",
       "      <td>1.868348</td>\n",
       "    </tr>\n",
       "    <tr>\n",
       "      <th>7</th>\n",
       "      <td>Age</td>\n",
       "      <td>-0.173903</td>\n",
       "      <td>0.840378</td>\n",
       "    </tr>\n",
       "    <tr>\n",
       "      <th>8</th>\n",
       "      <td>Body Mass Index</td>\n",
       "      <td>0.288294</td>\n",
       "      <td>1.334150</td>\n",
       "    </tr>\n",
       "    <tr>\n",
       "      <th>9</th>\n",
       "      <td>Education</td>\n",
       "      <td>-0.240816</td>\n",
       "      <td>0.785986</td>\n",
       "    </tr>\n",
       "    <tr>\n",
       "      <th>10</th>\n",
       "      <td>Children</td>\n",
       "      <td>0.357535</td>\n",
       "      <td>1.429801</td>\n",
       "    </tr>\n",
       "    <tr>\n",
       "      <th>11</th>\n",
       "      <td>Pet</td>\n",
       "      <td>-0.273374</td>\n",
       "      <td>0.760808</td>\n",
       "    </tr>\n",
       "  </tbody>\n",
       "</table>\n",
       "</div>"
      ],
      "text/plain": [
       "              Feature name  coefficient  odds_ratio\n",
       "0                Intercept    -1.609575    0.199973\n",
       "1                 Reason_1     2.771512   15.982778\n",
       "2                 Reason_2     0.931688    2.538791\n",
       "3                 Reason_3     3.092102   22.023327\n",
       "4                 Reason_4     0.809059    2.245794\n",
       "5              Month Value     0.007812    1.007843\n",
       "6   Transportation Expense     0.625055    1.868348\n",
       "7                      Age    -0.173903    0.840378\n",
       "8          Body Mass Index     0.288294    1.334150\n",
       "9                Education    -0.240816    0.785986\n",
       "10                Children     0.357535    1.429801\n",
       "11                     Pet    -0.273374    0.760808"
      ]
     },
     "execution_count": 36,
     "metadata": {},
     "output_type": "execute_result"
    }
   ],
   "source": [
    "summary_table"
   ]
  },
  {
   "cell_type": "code",
   "execution_count": 37,
   "metadata": {},
   "outputs": [
    {
     "data": {
      "text/html": [
       "<div>\n",
       "<style scoped>\n",
       "    .dataframe tbody tr th:only-of-type {\n",
       "        vertical-align: middle;\n",
       "    }\n",
       "\n",
       "    .dataframe tbody tr th {\n",
       "        vertical-align: top;\n",
       "    }\n",
       "\n",
       "    .dataframe thead th {\n",
       "        text-align: right;\n",
       "    }\n",
       "</style>\n",
       "<table border=\"1\" class=\"dataframe\">\n",
       "  <thead>\n",
       "    <tr style=\"text-align: right;\">\n",
       "      <th></th>\n",
       "      <th>Feature name</th>\n",
       "      <th>coefficient</th>\n",
       "      <th>odds_ratio</th>\n",
       "    </tr>\n",
       "  </thead>\n",
       "  <tbody>\n",
       "    <tr>\n",
       "      <th>3</th>\n",
       "      <td>Reason_3</td>\n",
       "      <td>3.092102</td>\n",
       "      <td>22.023327</td>\n",
       "    </tr>\n",
       "    <tr>\n",
       "      <th>1</th>\n",
       "      <td>Reason_1</td>\n",
       "      <td>2.771512</td>\n",
       "      <td>15.982778</td>\n",
       "    </tr>\n",
       "    <tr>\n",
       "      <th>2</th>\n",
       "      <td>Reason_2</td>\n",
       "      <td>0.931688</td>\n",
       "      <td>2.538791</td>\n",
       "    </tr>\n",
       "    <tr>\n",
       "      <th>4</th>\n",
       "      <td>Reason_4</td>\n",
       "      <td>0.809059</td>\n",
       "      <td>2.245794</td>\n",
       "    </tr>\n",
       "    <tr>\n",
       "      <th>6</th>\n",
       "      <td>Transportation Expense</td>\n",
       "      <td>0.625055</td>\n",
       "      <td>1.868348</td>\n",
       "    </tr>\n",
       "    <tr>\n",
       "      <th>10</th>\n",
       "      <td>Children</td>\n",
       "      <td>0.357535</td>\n",
       "      <td>1.429801</td>\n",
       "    </tr>\n",
       "    <tr>\n",
       "      <th>8</th>\n",
       "      <td>Body Mass Index</td>\n",
       "      <td>0.288294</td>\n",
       "      <td>1.334150</td>\n",
       "    </tr>\n",
       "    <tr>\n",
       "      <th>5</th>\n",
       "      <td>Month Value</td>\n",
       "      <td>0.007812</td>\n",
       "      <td>1.007843</td>\n",
       "    </tr>\n",
       "    <tr>\n",
       "      <th>7</th>\n",
       "      <td>Age</td>\n",
       "      <td>-0.173903</td>\n",
       "      <td>0.840378</td>\n",
       "    </tr>\n",
       "    <tr>\n",
       "      <th>9</th>\n",
       "      <td>Education</td>\n",
       "      <td>-0.240816</td>\n",
       "      <td>0.785986</td>\n",
       "    </tr>\n",
       "    <tr>\n",
       "      <th>11</th>\n",
       "      <td>Pet</td>\n",
       "      <td>-0.273374</td>\n",
       "      <td>0.760808</td>\n",
       "    </tr>\n",
       "    <tr>\n",
       "      <th>0</th>\n",
       "      <td>Intercept</td>\n",
       "      <td>-1.609575</td>\n",
       "      <td>0.199973</td>\n",
       "    </tr>\n",
       "  </tbody>\n",
       "</table>\n",
       "</div>"
      ],
      "text/plain": [
       "              Feature name  coefficient  odds_ratio\n",
       "3                 Reason_3     3.092102   22.023327\n",
       "1                 Reason_1     2.771512   15.982778\n",
       "2                 Reason_2     0.931688    2.538791\n",
       "4                 Reason_4     0.809059    2.245794\n",
       "6   Transportation Expense     0.625055    1.868348\n",
       "10                Children     0.357535    1.429801\n",
       "8          Body Mass Index     0.288294    1.334150\n",
       "5              Month Value     0.007812    1.007843\n",
       "7                      Age    -0.173903    0.840378\n",
       "9                Education    -0.240816    0.785986\n",
       "11                     Pet    -0.273374    0.760808\n",
       "0                Intercept    -1.609575    0.199973"
      ]
     },
     "execution_count": 37,
     "metadata": {},
     "output_type": "execute_result"
    }
   ],
   "source": [
    "\n",
    "#odds ratio is around 1 that could be nothing and useless\n",
    "# odds* odds ratio = new odds\n",
    "#5:1 * 2 = 10:1\n",
    "\n",
    "\n",
    "# sort the table according to odds ratio\n",
    "# note that by default, the sort_values method sorts values by 'ascending'\n",
    "summary_table.sort_values(\"odds_ratio\", ascending=False)"
   ]
  },
  {
   "cell_type": "code",
   "execution_count": 38,
   "metadata": {},
   "outputs": [],
   "source": [
    "#machine learning engineers focuses on accuracy like standard deviation\n",
    "#econometricians and statisticians focuses on interable models like out phenomena"
   ]
  },
  {
   "cell_type": "code",
   "execution_count": 39,
   "metadata": {},
   "outputs": [
    {
     "data": {
      "text/plain": [
       "0.7357142857142858"
      ]
     },
     "execution_count": 39,
     "metadata": {},
     "output_type": "execute_result"
    }
   ],
   "source": [
    "reg.score(x_test, y_test)"
   ]
  },
  {
   "cell_type": "code",
   "execution_count": 41,
   "metadata": {},
   "outputs": [
    {
     "data": {
      "text/plain": [
       "array([[0.75466347, 0.24533653],\n",
       "       [0.60917591, 0.39082409],\n",
       "       [0.48329093, 0.51670907],\n",
       "       [0.75768232, 0.24231768],\n",
       "       [0.08357741, 0.91642259],\n",
       "       [0.3052464 , 0.6947536 ],\n",
       "       [0.303675  , 0.696325  ],\n",
       "       [0.11636888, 0.88363112],\n",
       "       [0.7400284 , 0.2599716 ],\n",
       "       [0.75596036, 0.24403964],\n",
       "       [0.50609784, 0.49390216],\n",
       "       [0.19501503, 0.80498497],\n",
       "       [0.06248668, 0.93751332],\n",
       "       [0.7055465 , 0.2944535 ],\n",
       "       [0.29675526, 0.70324474],\n",
       "       [0.52028649, 0.47971351],\n",
       "       [0.50551315, 0.49448685],\n",
       "       [0.50843643, 0.49156357],\n",
       "       [0.36713074, 0.63286926],\n",
       "       [0.06422143, 0.93577857],\n",
       "       [0.73822433, 0.26177567],\n",
       "       [0.75768232, 0.24231768],\n",
       "       [0.47994423, 0.52005577],\n",
       "       [0.47760936, 0.52239064],\n",
       "       [0.22619725, 0.77380275],\n",
       "       [0.74047815, 0.25952185],\n",
       "       [0.51148533, 0.48851467],\n",
       "       [0.87702735, 0.12297265],\n",
       "       [0.24005377, 0.75994623],\n",
       "       [0.75768232, 0.24231768],\n",
       "       [0.61140118, 0.38859882],\n",
       "       [0.28761821, 0.71238179],\n",
       "       [0.30178515, 0.69821485],\n",
       "       [0.50492844, 0.49507156],\n",
       "       [0.75768232, 0.24231768],\n",
       "       [0.40227404, 0.59772596],\n",
       "       [0.73957814, 0.26042186],\n",
       "       [0.21977314, 0.78022686],\n",
       "       [0.5601409 , 0.4398591 ],\n",
       "       [0.39358874, 0.60641126],\n",
       "       [0.75811152, 0.24188848],\n",
       "       [0.50286997, 0.49713003],\n",
       "       [0.74137615, 0.25862385],\n",
       "       [0.59310285, 0.40689715],\n",
       "       [0.19240806, 0.80759194],\n",
       "       [0.40110655, 0.59889345],\n",
       "       [0.28055298, 0.71944702],\n",
       "       [0.75682238, 0.24317762],\n",
       "       [0.75323874, 0.24676126],\n",
       "       [0.7585402 , 0.2414598 ],\n",
       "       [0.49819184, 0.50180816],\n",
       "       [0.70700732, 0.29299268],\n",
       "       [0.3052464 , 0.6947536 ],\n",
       "       [0.75540613, 0.24459387],\n",
       "       [0.17966732, 0.82033268],\n",
       "       [0.60806156, 0.39193844],\n",
       "       [0.09400654, 0.90599346],\n",
       "       [0.73557043, 0.26442957],\n",
       "       [0.67849766, 0.32150234],\n",
       "       [0.6779872 , 0.3220128 ],\n",
       "       [0.29497024, 0.70502976],\n",
       "       [0.30376028, 0.69623972],\n",
       "       [0.73420328, 0.26579672],\n",
       "       [0.22415673, 0.77584327],\n",
       "       [0.75458879, 0.24541121],\n",
       "       [0.75509628, 0.24490372],\n",
       "       [0.92448842, 0.07551158],\n",
       "       [0.73912737, 0.26087263],\n",
       "       [0.23823076, 0.76176924],\n",
       "       [0.70359899, 0.29640101],\n",
       "       [0.74227211, 0.25772789],\n",
       "       [0.68460407, 0.31539593],\n",
       "       [0.11591943, 0.88408057],\n",
       "       [0.5612932 , 0.4387068 ],\n",
       "       [0.40452581, 0.59547419],\n",
       "       [0.75768232, 0.24231768],\n",
       "       [0.23962732, 0.76037268],\n",
       "       [0.24968437, 0.75031563],\n",
       "       [0.2996782 , 0.7003218 ],\n",
       "       [0.36495955, 0.63504045],\n",
       "       [0.7409274 , 0.2590726 ],\n",
       "       [0.92558608, 0.07441392],\n",
       "       [0.73145547, 0.26854453],\n",
       "       [0.28379938, 0.71620062],\n",
       "       [0.53265409, 0.46734591],\n",
       "       [0.87778217, 0.12221783],\n",
       "       [0.30326582, 0.69673418],\n",
       "       [0.47760936, 0.52239064],\n",
       "       [0.77739845, 0.22260155],\n",
       "       [0.28761821, 0.71238179],\n",
       "       [0.80291504, 0.19708496],\n",
       "       [0.86732465, 0.13267535],\n",
       "       [0.75379629, 0.24620371],\n",
       "       [0.75423014, 0.24576986],\n",
       "       [0.75596036, 0.24403964],\n",
       "       [0.12930173, 0.87069827],\n",
       "       [0.75379629, 0.24620371],\n",
       "       [0.27679152, 0.72320848],\n",
       "       [0.75497368, 0.24502632],\n",
       "       [0.80068474, 0.19931526],\n",
       "       [0.40339941, 0.59660059],\n",
       "       [0.28761821, 0.71238179],\n",
       "       [0.30213847, 0.69786153],\n",
       "       [0.29254388, 0.70745612],\n",
       "       [0.56071713, 0.43928287],\n",
       "       [0.56474607, 0.43525393],\n",
       "       [0.75466347, 0.24533653],\n",
       "       [0.12930173, 0.87069827],\n",
       "       [0.23738775, 0.76261225],\n",
       "       [0.86759359, 0.13240641],\n",
       "       [0.92590765, 0.07409235],\n",
       "       [0.08788486, 0.91211514],\n",
       "       [0.35675261, 0.64324739],\n",
       "       [0.6130671 , 0.3869329 ],\n",
       "       [0.40396248, 0.59603752],\n",
       "       [0.39582409, 0.60417591],\n",
       "       [0.21937231, 0.78062769],\n",
       "       [0.15389863, 0.84610137],\n",
       "       [0.43937218, 0.56062782],\n",
       "       [0.7386761 , 0.2613239 ],\n",
       "       [0.75552858, 0.24447142],\n",
       "       [0.8760147 , 0.1239853 ],\n",
       "       [0.19538249, 0.80461751],\n",
       "       [0.50462418, 0.49537582],\n",
       "       [0.75596036, 0.24403964],\n",
       "       [0.70457368, 0.29542632],\n",
       "       [0.75811152, 0.24188848],\n",
       "       [0.8667854 , 0.1332146 ],\n",
       "       [0.30277181, 0.69722819],\n",
       "       [0.73822433, 0.26177567],\n",
       "       [0.3930306 , 0.6069694 ],\n",
       "       [0.75811152, 0.24188848],\n",
       "       [0.75682238, 0.24317762],\n",
       "       [0.70115414, 0.29884586],\n",
       "       [0.73374656, 0.26625344],\n",
       "       [0.40847604, 0.59152396],\n",
       "       [0.50492844, 0.49507156],\n",
       "       [0.70311094, 0.29688906],\n",
       "       [0.75497368, 0.24502632],\n",
       "       [0.55956451, 0.44043549]])"
      ]
     },
     "execution_count": 41,
     "metadata": {},
     "output_type": "execute_result"
    }
   ],
   "source": [
    "#reg is regression\n",
    "#left is probability for target 0 \n",
    "#right is probability for target 1 \n",
    "predicted_proba = reg.predict_proba(x_test)\n",
    "\n",
    "predicted_proba"
   ]
  },
  {
   "cell_type": "code",
   "execution_count": 45,
   "metadata": {},
   "outputs": [
    {
     "data": {
      "text/plain": [
       "(140, 11)"
      ]
     },
     "execution_count": 45,
     "metadata": {},
     "output_type": "execute_result"
    }
   ],
   "source": [
    "x_test.shape"
   ]
  },
  {
   "cell_type": "code",
   "execution_count": 43,
   "metadata": {},
   "outputs": [
    {
     "data": {
      "text/plain": [
       "(140, 2)"
      ]
     },
     "execution_count": 43,
     "metadata": {},
     "output_type": "execute_result"
    }
   ],
   "source": [
    "predicted_proba.shape"
   ]
  },
  {
   "cell_type": "code",
   "execution_count": 44,
   "metadata": {},
   "outputs": [
    {
     "data": {
      "text/plain": [
       "array([0.24533653, 0.39082409, 0.51670907, 0.24231768, 0.91642259,\n",
       "       0.6947536 , 0.696325  , 0.88363112, 0.2599716 , 0.24403964,\n",
       "       0.49390216, 0.80498497, 0.93751332, 0.2944535 , 0.70324474,\n",
       "       0.47971351, 0.49448685, 0.49156357, 0.63286926, 0.93577857,\n",
       "       0.26177567, 0.24231768, 0.52005577, 0.52239064, 0.77380275,\n",
       "       0.25952185, 0.48851467, 0.12297265, 0.75994623, 0.24231768,\n",
       "       0.38859882, 0.71238179, 0.69821485, 0.49507156, 0.24231768,\n",
       "       0.59772596, 0.26042186, 0.78022686, 0.4398591 , 0.60641126,\n",
       "       0.24188848, 0.49713003, 0.25862385, 0.40689715, 0.80759194,\n",
       "       0.59889345, 0.71944702, 0.24317762, 0.24676126, 0.2414598 ,\n",
       "       0.50180816, 0.29299268, 0.6947536 , 0.24459387, 0.82033268,\n",
       "       0.39193844, 0.90599346, 0.26442957, 0.32150234, 0.3220128 ,\n",
       "       0.70502976, 0.69623972, 0.26579672, 0.77584327, 0.24541121,\n",
       "       0.24490372, 0.07551158, 0.26087263, 0.76176924, 0.29640101,\n",
       "       0.25772789, 0.31539593, 0.88408057, 0.4387068 , 0.59547419,\n",
       "       0.24231768, 0.76037268, 0.75031563, 0.7003218 , 0.63504045,\n",
       "       0.2590726 , 0.07441392, 0.26854453, 0.71620062, 0.46734591,\n",
       "       0.12221783, 0.69673418, 0.52239064, 0.22260155, 0.71238179,\n",
       "       0.19708496, 0.13267535, 0.24620371, 0.24576986, 0.24403964,\n",
       "       0.87069827, 0.24620371, 0.72320848, 0.24502632, 0.19931526,\n",
       "       0.59660059, 0.71238179, 0.69786153, 0.70745612, 0.43928287,\n",
       "       0.43525393, 0.24533653, 0.87069827, 0.76261225, 0.13240641,\n",
       "       0.07409235, 0.91211514, 0.64324739, 0.3869329 , 0.59603752,\n",
       "       0.60417591, 0.78062769, 0.84610137, 0.56062782, 0.2613239 ,\n",
       "       0.24447142, 0.1239853 , 0.80461751, 0.49537582, 0.24403964,\n",
       "       0.29542632, 0.24188848, 0.1332146 , 0.69722819, 0.26177567,\n",
       "       0.6069694 , 0.24188848, 0.24317762, 0.29884586, 0.26625344,\n",
       "       0.59152396, 0.49507156, 0.29688906, 0.24502632, 0.44043549])"
      ]
     },
     "execution_count": 44,
     "metadata": {},
     "output_type": "execute_result"
    }
   ],
   "source": [
    "predicted_proba[:,1]"
   ]
  },
  {
   "cell_type": "markdown",
   "metadata": {},
   "source": [
    "save the model"
   ]
  },
  {
   "cell_type": "code",
   "execution_count": 46,
   "metadata": {},
   "outputs": [],
   "source": [
    "import pickle"
   ]
  },
  {
   "cell_type": "code",
   "execution_count": null,
   "metadata": {},
   "outputs": [],
   "source": [
    "with open('model', 'wb') as file:\n",
    "    pickle.dumb(reg, file)"
   ]
  },
  {
   "cell_type": "code",
   "execution_count": 47,
   "metadata": {},
   "outputs": [],
   "source": [
    "with open('scaler','wb') as file:\n",
    "    pickle.dump(absenteeism_scaler, file)"
   ]
  },
  {
   "cell_type": "code",
   "execution_count": 66,
   "metadata": {},
   "outputs": [
    {
     "name": "stdout",
     "output_type": "stream",
     "text": [
      "     Reason_1  Reason_2  Reason_3  Reason_4  Month Value  \\\n",
      "0         NaN       NaN       NaN       NaN    -1.786901   \n",
      "1         0.0       0.0       0.0       0.0    -1.876546   \n",
      "2         NaN       NaN       NaN       NaN    -1.697256   \n",
      "3         NaN       NaN       NaN       NaN    -2.414415   \n",
      "4         NaN       NaN       NaN       NaN    -2.055835   \n",
      "..        ...       ...       ...       ...          ...   \n",
      "671       0.0       0.0       1.0       0.0          NaN   \n",
      "672       1.0       0.0       0.0       0.0          NaN   \n",
      "688       0.0       0.0       0.0       0.0          NaN   \n",
      "693       1.0       0.0       0.0       0.0          NaN   \n",
      "694       0.0       0.0       0.0       1.0          NaN   \n",
      "\n",
      "     Transportation Expense       Age  Body Mass Index  Education  Children  \\\n",
      "0                 -3.365266 -5.673966        -6.052813        NaN -1.745927   \n",
      "1                 -3.339760 -5.624746        -6.384734        0.0 -0.936377   \n",
      "2                 -3.352513 -5.550918        -5.665573        NaN -0.936377   \n",
      "3                 -3.365266 -5.673966        -6.052813        NaN -1.745927   \n",
      "4                 -3.346820 -5.723185        -6.495374        NaN  1.492271   \n",
      "..                      ...       ...              ...        ...       ...   \n",
      "671                     NaN       NaN              NaN        0.0       NaN   \n",
      "672                     NaN       NaN              NaN        0.0       NaN   \n",
      "688                     NaN       NaN              NaN        0.0       NaN   \n",
      "693                     NaN       NaN              NaN        1.0       NaN   \n",
      "694                     NaN       NaN              NaN        0.0       NaN   \n",
      "\n",
      "          Pet  \n",
      "0   -1.095748  \n",
      "1   -0.359281  \n",
      "2   -1.095748  \n",
      "3   -1.095748  \n",
      "4   -1.095748  \n",
      "..        ...  \n",
      "671       NaN  \n",
      "672       NaN  \n",
      "688       NaN  \n",
      "693       NaN  \n",
      "694       NaN  \n",
      "\n",
      "[253 rows x 11 columns]\n"
     ]
    }
   ],
   "source": [
    "# load the model from disk\n",
    "loaded_model = pickle.load(open('scaler', 'rb'))\n",
    "result = loaded_model.transform(x_test,y_test)\n",
    "print(result)"
   ]
  },
  {
   "cell_type": "code",
   "execution_count": null,
   "metadata": {},
   "outputs": [],
   "source": []
  }
 ],
 "metadata": {
  "kernelspec": {
   "display_name": "Python 3",
   "language": "python",
   "name": "python3"
  },
  "language_info": {
   "codemirror_mode": {
    "name": "ipython",
    "version": 3
   },
   "file_extension": ".py",
   "mimetype": "text/x-python",
   "name": "python",
   "nbconvert_exporter": "python",
   "pygments_lexer": "ipython3",
   "version": "3.8.3"
  }
 },
 "nbformat": 4,
 "nbformat_minor": 4
}
